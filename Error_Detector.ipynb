{
 "cells": [
  {
   "cell_type": "code",
   "execution_count": 6,
   "metadata": {},
   "outputs": [],
   "source": [
    "#Удаление комментариев\n",
    "def delete_com(filename, path_in, path_out):\n",
    "    heh = set({'+', '-', '*', '/', '.', ',', '(', ')', '{', '}', '&', '%', '@', '!', '=', '>', '<', ':', '~', '[', ']', '|'})\n",
    "    with open(path_out + '/' + filename, 'w', encoding='utf-8') as outfile:\n",
    "        f = True\n",
    "        with open(path_in + '/' + filename, 'r', encoding='utf-8') as infile:\n",
    "            c = infile.read(1)\n",
    "            while c:\n",
    "                if c == '/':\n",
    "                    c = infile.read(1)\n",
    "                    if c == '*':\n",
    "                        f = False\n",
    "                    elif c == '/':\n",
    "                        infile.readline()\n",
    "                        outfile.write('\\n')\n",
    "                    elif f:\n",
    "                        outfile.write('/')\n",
    "                        if c in heh:\n",
    "                            outfile.write(' ')\n",
    "                            outfile.write(c)\n",
    "                            outfile.write(' ')\n",
    "                        else:\n",
    "                            outfile.write(c)\n",
    "                elif c == '*':\n",
    "                    c = infile.read(1)\n",
    "                    if c == '/':\n",
    "                        f = True\n",
    "                    elif f:\n",
    "                        outfile.write('*')\n",
    "                        if c in heh:\n",
    "                            outfile.write(' ')\n",
    "                            outfile.write(c)\n",
    "                            outfile.write(' ')\n",
    "                        else:\n",
    "                            outfile.write(c)\n",
    "                elif f and c != ';':\n",
    "                    if c in heh:\n",
    "                        outfile.write(' ')\n",
    "                        outfile.write(c)\n",
    "                        outfile.write(' ')\n",
    "                    else:\n",
    "                        outfile.write(c)\n",
    "                c = infile.read(1)"
   ]
  },
  {
   "cell_type": "code",
   "execution_count": 8,
   "metadata": {},
   "outputs": [],
   "source": [
    "import os\n",
    "path_in = 'True_program'\n",
    "path_out = 'True_program_without_com'\n",
    "\n",
    "for filename in os.listdir(path_in):\n",
    "    delete_com(filename, path_in, path_out)"
   ]
  },
  {
   "cell_type": "code",
   "execution_count": 18,
   "metadata": {},
   "outputs": [],
   "source": [
    "#Формирования словаря слов для всех файлов \n",
    "def load_dir(filename, path):\n",
    "    global d\n",
    "    global CNT_COL\n",
    "    cnt = 0\n",
    "    with open(path + '/' + filename, 'r', encoding='utf-8') as infile:\n",
    "        for line in infile:\n",
    "            s = line.split()\n",
    "            for i in s:\n",
    "                if i in d.keys():\n",
    "                    d[i] += 1\n",
    "                else:\n",
    "                    d[i] = 1\n",
    "                cnt += 1\n",
    "    if cnt > CNT_COL:\n",
    "        CNT_COL = cnt\n",
    "            \n"
   ]
  },
  {
   "cell_type": "code",
   "execution_count": 19,
   "metadata": {},
   "outputs": [],
   "source": [
    "import numpy as np\n",
    "import os\n",
    "\n",
    "CNT_ROW_TRUE = 0\n",
    "CNT_COL = 0\n",
    "\n",
    "d = {}\n",
    "\n",
    "path = 'True_program_without_com'\n",
    "\n",
    "for filename in os.listdir(path):\n",
    "    load_dir(filename, path)\n",
    "    CNT_ROW_TRUE += 1"
   ]
  },
  {
   "cell_type": "code",
   "execution_count": 20,
   "metadata": {},
   "outputs": [],
   "source": [
    "CNT_ROW_FALSE = 0\n",
    "\n",
    "path = 'False_program_without_com'\n",
    "\n",
    "for filename in os.listdir(path):\n",
    "    load_dir(filename, path)\n",
    "    CNT_ROW_FALSE += 1"
   ]
  },
  {
   "cell_type": "code",
   "execution_count": 21,
   "metadata": {},
   "outputs": [],
   "source": [
    "data_true = np.zeros((CNT_ROW_TRUE, CNT_COL))\n",
    "data_false = np.zeros((CNT_ROW_FALSE, CNT_COL))"
   ]
  },
  {
   "cell_type": "code",
   "execution_count": 22,
   "metadata": {},
   "outputs": [],
   "source": [
    "l = []\n",
    "for i in d.keys():\n",
    "    l += [[d[i],i]]\n",
    "l.sort()"
   ]
  },
  {
   "cell_type": "code",
   "execution_count": 23,
   "metadata": {},
   "outputs": [],
   "source": [
    "my_dir = {}\n",
    "for i in range(len(l)):\n",
    "    my_dir[l[i][1]] = len(l) - i"
   ]
  },
  {
   "cell_type": "code",
   "execution_count": 24,
   "metadata": {},
   "outputs": [
    {
     "name": "stderr",
     "output_type": "stream",
     "text": [
      "Using TensorFlow backend.\n"
     ]
    }
   ],
   "source": [
    "from keras.utils import to_categorical\n",
    "from keras import models\n",
    "from keras import layers\n",
    "from keras.datasets import imdb"
   ]
  },
  {
   "cell_type": "code",
   "execution_count": 25,
   "metadata": {},
   "outputs": [],
   "source": [
    "j = 0\n",
    "\n",
    "path = 'True_program_without_com'\n",
    "for filename in os.listdir(path):\n",
    "    with open(path + '/' + filename, 'r', encoding='utf-8') as infile:\n",
    "        for line in infile:\n",
    "            s = line.split()\n",
    "            for i in range(len(s)):\n",
    "                data_true[j][i] = my_dir[s[i]]\n",
    "    j += 1\n",
    "    "
   ]
  },
  {
   "cell_type": "code",
   "execution_count": 26,
   "metadata": {},
   "outputs": [],
   "source": [
    "j = 0\n",
    "\n",
    "path = 'False_program_without_com'\n",
    "for filename in os.listdir(path):\n",
    "    with open(path + '/' + filename, 'r', encoding='utf-8') as infile:\n",
    "        for line in infile:\n",
    "            s = line.split()\n",
    "            for i in range(len(s)):\n",
    "                data_false[j][i] = my_dir[s[i]]\n",
    "    j += 1\n",
    "    "
   ]
  },
  {
   "cell_type": "code",
   "execution_count": null,
   "metadata": {},
   "outputs": [],
   "source": [
    "target_true = np.ones((CNT_ROW_TRUE, 1))\n",
    "target_false = np.zeros((CNT_ROW_FALSE, 1))"
   ]
  },
  {
   "cell_type": "code",
   "execution_count": null,
   "metadata": {},
   "outputs": [],
   "source": [
    "data = np.concatenate((data_true, data_false), axis=0)\n",
    "target = np.concatenate((target_true, target_false), axis=0)"
   ]
  },
  {
   "cell_type": "code",
   "execution_count": null,
   "metadata": {},
   "outputs": [],
   "source": [
    "from sklearn.model_selection import train_test_split\n",
    "\n",
    "X_train, X_test, y_train, y_test = train_test_split(data, target, test_size = 0.2, random_state = 11)"
   ]
  },
  {
   "cell_type": "code",
   "execution_count": null,
   "metadata": {},
   "outputs": [],
   "source": [
    "X_train = np.reshape(X_train, (X_train.shape[0], X_train.shape[1], 1))\n",
    "X_test = np.reshape(X_test, (X_test.shape[0], X_test.shape[1], 1))"
   ]
  },
  {
   "cell_type": "code",
   "execution_count": null,
   "metadata": {},
   "outputs": [],
   "source": [
    "import time"
   ]
  },
  {
   "cell_type": "code",
   "execution_count": null,
   "metadata": {},
   "outputs": [
    {
     "name": "stdout",
     "output_type": "stream",
     "text": [
      "WARNING:tensorflow:From C:\\Users\\Polya\\Anaconda3\\lib\\site-packages\\tensorflow\\python\\framework\\op_def_library.py:263: colocate_with (from tensorflow.python.framework.ops) is deprecated and will be removed in a future version.\n",
      "Instructions for updating:\n",
      "Colocations handled automatically by placer.\n",
      "WARNING:tensorflow:From C:\\Users\\Polya\\Anaconda3\\lib\\site-packages\\tensorflow\\python\\ops\\math_ops.py:3066: to_int32 (from tensorflow.python.ops.math_ops) is deprecated and will be removed in a future version.\n",
      "Instructions for updating:\n",
      "Use tf.cast instead.\n",
      "Train on 2672 samples, validate on 669 samples\n",
      "Epoch 1/3\n",
      " 250/2672 [=>............................] - ETA: 17:54 - loss: 0.6924 - acc: 0.5440"
     ]
    }
   ],
   "source": [
    "#RNN\n",
    "\n",
    "from keras.layers import LSTM\n",
    "from keras.layers import Dense\n",
    "\n",
    "model = models.Sequential()\n",
    "# Input - Layer\n",
    "model.add(LSTM(32))\n",
    "#model.add(Dense(50, activation = \"relu\"))\n",
    "model.add(Dense(1, activation='sigmoid'))\n",
    "#model.summary()\n",
    "# compiling the model\n",
    "model.compile(\n",
    " optimizer = \"adam\",\n",
    " loss = \"binary_crossentropy\",\n",
    " metrics = [\"accuracy\"]\n",
    ")\n",
    "\n",
    "time_start = time.time()\n",
    "\n",
    "results = model.fit(\n",
    "    X_train, y_train,\n",
    "    batch_size=50,\n",
    "    epochs=3,\n",
    "    verbose=1,\n",
    "    validation_data = (X_test, y_test),\n",
    ")\n",
    "print(\"Test-Accuracy:\", np.mean(results.history[\"val_acc\"]))\n",
    "print(\"Time: \", time.time() - time_start)"
   ]
  },
  {
   "cell_type": "code",
   "execution_count": 26,
   "metadata": {},
   "outputs": [
    {
     "name": "stdout",
     "output_type": "stream",
     "text": [
      "Train on 2672 samples, validate on 669 samples\n",
      "Epoch 1/3\n",
      "2672/2672 [==============================] - 402s 151ms/step - loss: 0.6883 - acc: 0.5520 - val_loss: 0.6901 - val_acc: 0.5396\n",
      "Epoch 2/3\n",
      "2672/2672 [==============================] - 365s 137ms/step - loss: 0.6878 - acc: 0.5520 - val_loss: 0.6901 - val_acc: 0.5396\n",
      "Epoch 3/3\n",
      "2672/2672 [==============================] - 367s 138ms/step - loss: 0.6878 - acc: 0.5520 - val_loss: 0.6903 - val_acc: 0.5396\n",
      "Test-Accuracy: 0.5396113641593488\n"
     ]
    }
   ],
   "source": [
    "from keras.callbacks import TensorBoard  \n",
    "tensorboard=TensorBoard(log_dir='./logs', write_graph=True)\n",
    "\n",
    "results = model.fit(\n",
    "    X_train, y_train,\n",
    "    batch_size=100,\n",
    "    epochs=3,\n",
    "    verbose=1,\n",
    "    validation_data = (X_test, y_test),\n",
    "    callbacks=[tensorboard]\n",
    ")\n",
    "print(\"Test-Accuracy:\", np.mean(results.history[\"val_acc\"]))"
   ]
  },
  {
   "cell_type": "code",
   "execution_count": 42,
   "metadata": {},
   "outputs": [],
   "source": [
    "X_train = np.reshape(X_train, (X_train.shape[0], X_train.shape[1]))\n",
    "X_test = np.reshape(X_test, (X_test.shape[0], X_test.shape[1]))"
   ]
  },
  {
   "cell_type": "code",
   "execution_count": 41,
   "metadata": {},
   "outputs": [
    {
     "name": "stdout",
     "output_type": "stream",
     "text": [
      "_________________________________________________________________\n",
      "Layer (type)                 Output Shape              Param #   \n",
      "=================================================================\n",
      "dense_45 (Dense)             (None, 50)                1027400   \n",
      "_________________________________________________________________\n",
      "dropout_21 (Dropout)         (None, 50)                0         \n",
      "_________________________________________________________________\n",
      "dense_46 (Dense)             (None, 50)                2550      \n",
      "_________________________________________________________________\n",
      "dropout_22 (Dropout)         (None, 50)                0         \n",
      "_________________________________________________________________\n",
      "dense_47 (Dense)             (None, 50)                2550      \n",
      "_________________________________________________________________\n",
      "dense_48 (Dense)             (None, 1)                 51        \n",
      "=================================================================\n",
      "Total params: 1,032,551\n",
      "Trainable params: 1,032,551\n",
      "Non-trainable params: 0\n",
      "_________________________________________________________________\n",
      "Train on 2672 samples, validate on 669 samples\n",
      "Epoch 1/50\n",
      "2672/2672 [==============================] - 5s 2ms/step - loss: 7.4648 - acc: 0.4981 - val_loss: 7.4315 - val_acc: 0.4813\n",
      "Epoch 2/50\n",
      "2672/2672 [==============================] - 3s 1ms/step - loss: 8.2641 - acc: 0.4585 - val_loss: 8.4768 - val_acc: 0.4439\n",
      "Epoch 3/50\n",
      "2672/2672 [==============================] - 3s 1ms/step - loss: 8.3128 - acc: 0.4596 - val_loss: 7.7145 - val_acc: 0.4903\n",
      "Epoch 4/50\n",
      "2672/2672 [==============================] - 3s 1ms/step - loss: 7.0388 - acc: 0.5378 - val_loss: 6.3413 - val_acc: 0.5904\n",
      "Epoch 5/50\n",
      "2672/2672 [==============================] - 3s 1ms/step - loss: 6.9235 - acc: 0.5524 - val_loss: 6.3877 - val_acc: 0.5919\n",
      "Epoch 6/50\n",
      "2672/2672 [==============================] - 3s 1ms/step - loss: 6.9455 - acc: 0.5535 - val_loss: 6.9786 - val_acc: 0.5516\n",
      "Epoch 7/50\n",
      "2672/2672 [==============================] - 3s 1ms/step - loss: 7.1429 - acc: 0.5419 - val_loss: 6.9287 - val_acc: 0.5516\n",
      "Epoch 8/50\n",
      "2672/2672 [==============================] - 3s 1ms/step - loss: 6.8576 - acc: 0.5588 - val_loss: 7.1805 - val_acc: 0.5396\n",
      "Epoch 9/50\n",
      "2672/2672 [==============================] - 3s 1ms/step - loss: 6.8870 - acc: 0.5610 - val_loss: 7.2200 - val_acc: 0.5396\n",
      "Epoch 10/50\n",
      "2672/2672 [==============================] - 3s 1ms/step - loss: 7.1991 - acc: 0.5419 - val_loss: 7.1037 - val_acc: 0.5471\n",
      "Epoch 11/50\n",
      "2672/2672 [==============================] - 3s 1ms/step - loss: 7.0950 - acc: 0.5498 - val_loss: 7.2920 - val_acc: 0.5411\n",
      "Epoch 12/50\n",
      "2672/2672 [==============================] - 3s 1ms/step - loss: 7.1922 - acc: 0.5457 - val_loss: 7.3331 - val_acc: 0.5396\n",
      "Epoch 13/50\n",
      "2672/2672 [==============================] - 3s 1ms/step - loss: 7.1123 - acc: 0.5520 - val_loss: 7.3330 - val_acc: 0.5396\n",
      "Epoch 14/50\n",
      "2672/2672 [==============================] - 3s 1ms/step - loss: 7.1114 - acc: 0.5520 - val_loss: 7.3314 - val_acc: 0.5396\n",
      "Epoch 15/50\n",
      "2672/2672 [==============================] - 3s 1ms/step - loss: 7.1174 - acc: 0.5520 - val_loss: 7.3309 - val_acc: 0.5396\n",
      "Epoch 16/50\n",
      "2672/2672 [==============================] - 3s 1ms/step - loss: 7.0960 - acc: 0.5524 - val_loss: 7.3286 - val_acc: 0.5396\n",
      "Epoch 17/50\n",
      "2672/2672 [==============================] - 3s 1ms/step - loss: 7.1121 - acc: 0.5513 - val_loss: 7.3274 - val_acc: 0.5396\n",
      "Epoch 18/50\n",
      "2672/2672 [==============================] - 3s 1ms/step - loss: 7.1075 - acc: 0.5516 - val_loss: 7.3252 - val_acc: 0.5396\n",
      "Epoch 19/50\n",
      "2672/2672 [==============================] - 3s 1ms/step - loss: 7.0833 - acc: 0.5528 - val_loss: 7.2831 - val_acc: 0.5411\n",
      "Epoch 20/50\n",
      "2672/2672 [==============================] - 3s 1ms/step - loss: 7.0783 - acc: 0.5513 - val_loss: 7.2772 - val_acc: 0.5411\n",
      "Epoch 21/50\n",
      "2672/2672 [==============================] - 3s 1ms/step - loss: 7.1646 - acc: 0.5445 - val_loss: 7.1787 - val_acc: 0.5456ss: 7.1979 - acc: 0.5\n",
      "Epoch 22/50\n",
      "2672/2672 [==============================] - 3s 1ms/step - loss: 7.0862 - acc: 0.5505 - val_loss: 7.3218 - val_acc: 0.5396\n",
      "Epoch 23/50\n",
      "2672/2672 [==============================] - 3s 1ms/step - loss: 7.0864 - acc: 0.5520 - val_loss: 7.3184 - val_acc: 0.5396\n",
      "Epoch 24/50\n",
      "2672/2672 [==============================] - 3s 1ms/step - loss: 7.0956 - acc: 0.5513 - val_loss: 7.3149 - val_acc: 0.5396- loss: 7.1264 -\n",
      "Epoch 25/50\n",
      "2672/2672 [==============================] - 3s 1ms/step - loss: 7.0904 - acc: 0.5516 - val_loss: 7.3111 - val_acc: 0.5396\n",
      "Epoch 26/50\n",
      "2672/2672 [==============================] - 3s 1ms/step - loss: 7.0873 - acc: 0.5505 - val_loss: 7.3065 - val_acc: 0.5396\n",
      "Epoch 27/50\n",
      "2672/2672 [==============================] - 3s 1ms/step - loss: 7.0966 - acc: 0.5501 - val_loss: 7.3027 - val_acc: 0.5396\n",
      "Epoch 28/50\n",
      "2672/2672 [==============================] - 3s 1ms/step - loss: 7.0764 - acc: 0.5509 - val_loss: 7.3027 - val_acc: 0.5396\n",
      "Epoch 29/50\n",
      "2672/2672 [==============================] - 3s 1ms/step - loss: 7.0525 - acc: 0.5509 - val_loss: 7.2606 - val_acc: 0.5411\n",
      "Epoch 30/50\n",
      "2672/2672 [==============================] - 3s 1ms/step - loss: 7.0488 - acc: 0.5513 - val_loss: 7.2851 - val_acc: 0.5396\n",
      "Epoch 31/50\n",
      "2672/2672 [==============================] - 3s 1ms/step - loss: 7.0651 - acc: 0.5513 - val_loss: 7.2985 - val_acc: 0.5396\n",
      "Epoch 32/50\n",
      "2672/2672 [==============================] - 3s 1ms/step - loss: 7.0648 - acc: 0.5513 - val_loss: 7.2944 - val_acc: 0.5381\n",
      "Epoch 33/50\n",
      "2672/2672 [==============================] - 3s 1ms/step - loss: 7.0649 - acc: 0.5505 - val_loss: 7.2903 - val_acc: 0.5381\n",
      "Epoch 34/50\n",
      "2672/2672 [==============================] - 3s 1ms/step - loss: 7.0570 - acc: 0.5509 - val_loss: 7.2889 - val_acc: 0.5381 6.9\n",
      "Epoch 35/50\n",
      "2672/2672 [==============================] - 3s 1ms/step - loss: 7.0463 - acc: 0.5509 - val_loss: 7.2851 - val_acc: 0.5306\n",
      "Epoch 36/50\n",
      "2672/2672 [==============================] - 3s 1ms/step - loss: 7.0377 - acc: 0.5487 - val_loss: 7.2822 - val_acc: 0.5336\n",
      "Epoch 37/50\n",
      "2672/2672 [==============================] - 3s 1ms/step - loss: 7.6328 - acc: 0.5127 - val_loss: 8.6051 - val_acc: 0.4589\n",
      "Epoch 38/50\n",
      "2672/2672 [==============================] - 3s 1ms/step - loss: 8.5172 - acc: 0.4618 - val_loss: 8.5440 - val_acc: 0.4604\n",
      "Epoch 39/50\n",
      "2672/2672 [==============================] - 3s 1ms/step - loss: 8.5030 - acc: 0.4618 - val_loss: 8.5902 - val_acc: 0.4604\n",
      "Epoch 40/50\n",
      "2672/2672 [==============================] - 3s 1ms/step - loss: 8.7692 - acc: 0.4495 - val_loss: 8.6054 - val_acc: 0.4604\n",
      "Epoch 41/50\n",
      "2672/2672 [==============================] - 3s 1ms/step - loss: 8.8421 - acc: 0.4469 - val_loss: 8.6080 - val_acc: 0.4604\n",
      "Epoch 42/50\n",
      "2672/2672 [==============================] - 3s 1ms/step - loss: 8.7943 - acc: 0.4491 - val_loss: 8.5411 - val_acc: 0.4604\n",
      "Epoch 43/50\n",
      "2672/2672 [==============================] - 3s 1ms/step - loss: 8.6724 - acc: 0.4536 - val_loss: 8.6039 - val_acc: 0.4604\n",
      "Epoch 44/50\n",
      "2672/2672 [==============================] - 3s 1ms/step - loss: 8.7805 - acc: 0.4484 - val_loss: 8.5928 - val_acc: 0.4604\n",
      "Epoch 45/50\n",
      "2672/2672 [==============================] - 3s 1ms/step - loss: 8.7578 - acc: 0.4499 - val_loss: 8.5793 - val_acc: 0.4604\n",
      "Epoch 46/50\n",
      "2672/2672 [==============================] - 3s 1ms/step - loss: 8.4094 - acc: 0.4704 - val_loss: 7.1974 - val_acc: 0.5486\n",
      "Epoch 47/50\n",
      "2672/2672 [==============================] - 3s 1ms/step - loss: 7.5193 - acc: 0.5262 - val_loss: 7.2249 - val_acc: 0.5441\n",
      "Epoch 48/50\n",
      "2672/2672 [==============================] - 3s 1ms/step - loss: 7.5900 - acc: 0.5217 - val_loss: 7.1190 - val_acc: 0.5516\n",
      "Epoch 49/50\n",
      "2672/2672 [==============================] - 3s 1ms/step - loss: 7.8149 - acc: 0.5052 - val_loss: 7.4339 - val_acc: 0.5321\n",
      "Epoch 50/50\n",
      "2672/2672 [==============================] - 3s 1ms/step - loss: 7.6930 - acc: 0.5168 - val_loss: 7.2389 - val_acc: 0.5426\n",
      "Test-Accuracy: 0.5242152529553983\n"
     ]
    }
   ],
   "source": [
    "model = models.Sequential()\n",
    "# Input - Layer\n",
    "model.add(layers.Dense(50, activation = \"relu\", input_shape=(X_train.shape[1], )))\n",
    "# Hidden - Layers\n",
    "model.add(layers.Dropout(0.3, noise_shape=None, seed=None))\n",
    "model.add(layers.Dense(50, activation = \"relu\"))\n",
    "model.add(layers.Dropout(0.2, noise_shape=None, seed=None))\n",
    "model.add(layers.Dense(50, activation = \"relu\"))\n",
    "# Output- Layer\n",
    "model.add(layers.Dense(1, activation = \"sigmoid\"))\n",
    "model.summary()\n",
    "# compiling the model\n",
    "model.compile(\n",
    " optimizer = \"adam\",\n",
    " loss = \"binary_crossentropy\",\n",
    " metrics = [\"accuracy\"]\n",
    ")\n",
    "results = model.fit(\n",
    " X_train, y_train,\n",
    " epochs= 50,\n",
    " batch_size = 30,\n",
    " validation_data = (X_test, y_test)\n",
    ")\n",
    "print(\"Test-Accuracy:\", np.mean(results.history[\"val_acc\"]))"
   ]
  },
  {
   "cell_type": "code",
   "execution_count": 52,
   "metadata": {},
   "outputs": [
    {
     "name": "stderr",
     "output_type": "stream",
     "text": [
      "C:\\Users\\Polya\\Anaconda3\\lib\\site-packages\\ipykernel_launcher.py:4: DataConversionWarning: A column-vector y was passed when a 1d array was expected. Please change the shape of y to (n_samples, ), for example using ravel().\n",
      "  after removing the cwd from sys.path.\n"
     ]
    },
    {
     "name": "stdout",
     "output_type": "stream",
     "text": [
      "Train-Accuracy: 0.7095808383233533\n",
      "Test-Accuracy: 0.5844544095665172\n"
     ]
    }
   ],
   "source": [
    "#KNN\n",
    "from sklearn.neighbors import KNeighborsClassifier\n",
    "knn = KNeighborsClassifier(n_neighbors=7)\n",
    "knn.fit(X_train, y_train)\n",
    "print(\"Train-Accuracy:\", knn.score(X_train, y_train))\n",
    "print(\"Test-Accuracy:\", knn.score(X_test, y_test))"
   ]
  },
  {
   "cell_type": "code",
   "execution_count": 53,
   "metadata": {},
   "outputs": [
    {
     "name": "stdout",
     "output_type": "stream",
     "text": [
      "Time:  103.60171341896057\n"
     ]
    }
   ],
   "source": [
    "time_start = time.time()\n",
    "y_pred = knn.predict(X_test)\n",
    "print(\"Time: \", time.time() - time_start)"
   ]
  },
  {
   "cell_type": "code",
   "execution_count": 65,
   "metadata": {},
   "outputs": [
    {
     "name": "stderr",
     "output_type": "stream",
     "text": [
      "C:\\Users\\Polya\\Anaconda3\\lib\\site-packages\\sklearn\\linear_model\\logistic.py:433: FutureWarning: Default solver will be changed to 'lbfgs' in 0.22. Specify a solver to silence this warning.\n",
      "  FutureWarning)\n",
      "C:\\Users\\Polya\\Anaconda3\\lib\\site-packages\\sklearn\\utils\\validation.py:761: DataConversionWarning: A column-vector y was passed when a 1d array was expected. Please change the shape of y to (n_samples, ), for example using ravel().\n",
      "  y = column_or_1d(y, warn=True)\n"
     ]
    },
    {
     "name": "stdout",
     "output_type": "stream",
     "text": [
      "Train-Accuracy: 0.6347305389221557\n",
      "Test-Accuracy: 0.6023916292974589\n"
     ]
    }
   ],
   "source": [
    "# Логистическая регрессия\n",
    "from sklearn.linear_model import LogisticRegression\n",
    "LR = LogisticRegression(C = 0.001, penalty='l1')\n",
    "LR.fit(X_train, y_train)\n",
    "print(\"Train-Accuracy:\", LR.score(X_train, y_train))\n",
    "print(\"Test-Accuracy:\", LR.score(X_test, y_test))"
   ]
  },
  {
   "cell_type": "code",
   "execution_count": 66,
   "metadata": {},
   "outputs": [
    {
     "name": "stdout",
     "output_type": "stream",
     "text": [
      "Time:  0.05309581756591797\n"
     ]
    }
   ],
   "source": [
    "time_start = time.time()\n",
    "y_pred = LR.predict(X_test)\n",
    "print(\"Time: \", time.time() - time_start)"
   ]
  },
  {
   "cell_type": "code",
   "execution_count": 74,
   "metadata": {},
   "outputs": [
    {
     "name": "stderr",
     "output_type": "stream",
     "text": [
      "C:\\Users\\Polya\\Anaconda3\\lib\\site-packages\\sklearn\\utils\\validation.py:761: DataConversionWarning: A column-vector y was passed when a 1d array was expected. Please change the shape of y to (n_samples, ), for example using ravel().\n",
      "  y = column_or_1d(y, warn=True)\n",
      "C:\\Users\\Polya\\Anaconda3\\lib\\site-packages\\sklearn\\svm\\base.py:931: ConvergenceWarning: Liblinear failed to converge, increase the number of iterations.\n",
      "  \"the number of iterations.\", ConvergenceWarning)\n"
     ]
    },
    {
     "name": "stdout",
     "output_type": "stream",
     "text": [
      "Train-Accuracy: 0.5520209580838323\n",
      "Test-Accuracy: 0.5142002989536621\n"
     ]
    }
   ],
   "source": [
    "# Метод опорных векторов\n",
    "from sklearn.svm import LinearSVC\n",
    "LSVC = LinearSVC()\n",
    "LSVC.fit(X_train, y_train)\n",
    "print(\"Train-Accuracy:\", LSVC.score(X_train, y_train))\n",
    "print(\"Test-Accuracy:\", LSVC.score(X_test, y_test))"
   ]
  },
  {
   "cell_type": "code",
   "execution_count": 75,
   "metadata": {},
   "outputs": [
    {
     "name": "stdout",
     "output_type": "stream",
     "text": [
      "Time:  0.06216597557067871\n"
     ]
    }
   ],
   "source": [
    "time_start = time.time()\n",
    "y_pred = LSVC.predict(X_test)\n",
    "print(\"Time: \", time.time() - time_start)"
   ]
  },
  {
   "cell_type": "code",
   "execution_count": 91,
   "metadata": {},
   "outputs": [
    {
     "name": "stdout",
     "output_type": "stream",
     "text": [
      "Train-Accuracy: 0.9966317365269461\n",
      "Test-Accuracy: 0.6890881913303438\n"
     ]
    }
   ],
   "source": [
    "# Деревья решения\n",
    "from sklearn.tree import DecisionTreeClassifier\n",
    "tree = DecisionTreeClassifier(random_state=0)\n",
    "tree.fit(X_train, y_train)\n",
    "print(\"Train-Accuracy:\", tree.score(X_train, y_train))\n",
    "print(\"Test-Accuracy:\", tree.score(X_test, y_test))"
   ]
  },
  {
   "cell_type": "code",
   "execution_count": 92,
   "metadata": {},
   "outputs": [
    {
     "name": "stdout",
     "output_type": "stream",
     "text": [
      "Time:  0.1286630630493164\n"
     ]
    }
   ],
   "source": [
    "time_start = time.time()\n",
    "y_pred = tree.predict(X_test)\n",
    "print(\"Time: \", time.time() - time_start)"
   ]
  },
  {
   "cell_type": "code",
   "execution_count": 101,
   "metadata": {},
   "outputs": [
    {
     "name": "stderr",
     "output_type": "stream",
     "text": [
      "C:\\Users\\Polya\\Anaconda3\\lib\\site-packages\\ipykernel_launcher.py:4: DataConversionWarning: A column-vector y was passed when a 1d array was expected. Please change the shape of y to (n_samples,), for example using ravel().\n",
      "  after removing the cwd from sys.path.\n"
     ]
    },
    {
     "name": "stdout",
     "output_type": "stream",
     "text": [
      "Train-Accuracy: 0.9966317365269461\n",
      "Test-Accuracy: 0.7757847533632287\n"
     ]
    }
   ],
   "source": [
    "# Случайный лес\n",
    "from sklearn.ensemble import RandomForestClassifier\n",
    "forest = RandomForestClassifier(n_estimators=500, random_state=0)\n",
    "forest.fit(X_train, y_train)\n",
    "print(\"Train-Accuracy:\", forest.score(X_train, y_train))\n",
    "print(\"Test-Accuracy:\", forest.score(X_test, y_test))"
   ]
  },
  {
   "cell_type": "code",
   "execution_count": 102,
   "metadata": {},
   "outputs": [
    {
     "name": "stdout",
     "output_type": "stream",
     "text": [
      "Time:  0.21543002128601074\n"
     ]
    }
   ],
   "source": [
    "time_start = time.time()\n",
    "y_pred = forest.predict(X_test)\n",
    "print(\"Time: \", time.time() - time_start)"
   ]
  },
  {
   "cell_type": "code",
   "execution_count": 111,
   "metadata": {},
   "outputs": [
    {
     "name": "stderr",
     "output_type": "stream",
     "text": [
      "C:\\Users\\Polya\\Anaconda3\\lib\\site-packages\\sklearn\\utils\\validation.py:761: DataConversionWarning: A column-vector y was passed when a 1d array was expected. Please change the shape of y to (n_samples, ), for example using ravel().\n",
      "  y = column_or_1d(y, warn=True)\n"
     ]
    },
    {
     "name": "stdout",
     "output_type": "stream",
     "text": [
      "Train-Accuracy: 0.8278443113772455\n",
      "Test-Accuracy: 0.7279521674140508\n"
     ]
    }
   ],
   "source": [
    "# Градиентный бустинг\n",
    "from sklearn.ensemble import GradientBoostingClassifier\n",
    "gbrt = GradientBoostingClassifier(random_state=0, n_estimators=100)\n",
    "gbrt.fit(X_train, y_train)\n",
    "print(\"Train-Accuracy:\", gbrt.score(X_train, y_train))\n",
    "print(\"Test-Accuracy:\", gbrt.score(X_test, y_test))"
   ]
  },
  {
   "cell_type": "code",
   "execution_count": 112,
   "metadata": {},
   "outputs": [
    {
     "name": "stdout",
     "output_type": "stream",
     "text": [
      "Time:  0.12330150604248047\n"
     ]
    }
   ],
   "source": [
    "time_start = time.time()\n",
    "y_pred = gbrt.predict(X_test)\n",
    "print(\"Time: \", time.time() - time_start)"
   ]
  },
  {
   "cell_type": "code",
   "execution_count": 116,
   "metadata": {},
   "outputs": [
    {
     "name": "stderr",
     "output_type": "stream",
     "text": [
      "C:\\Users\\Polya\\Anaconda3\\lib\\site-packages\\sklearn\\neural_network\\multilayer_perceptron.py:916: DataConversionWarning: A column-vector y was passed when a 1d array was expected. Please change the shape of y to (n_samples, ), for example using ravel().\n",
      "  y = column_or_1d(y, warn=True)\n"
     ]
    },
    {
     "name": "stdout",
     "output_type": "stream",
     "text": [
      "Train-Accuracy: 0.5426646706586826\n",
      "Test-Accuracy: 0.4962630792227205\n"
     ]
    }
   ],
   "source": [
    "# Нейроночка\n",
    "from sklearn.neural_network import MLPClassifier\n",
    "mlp = MLPClassifier(solver='lbfgs', random_state=0, hidden_layer_sizes=[10, 10])\n",
    "mlp.fit(X_train, y_train)\n",
    "print(\"Train-Accuracy:\", mlp.score(X_train, y_train))\n",
    "print(\"Test-Accuracy:\", mlp.score(X_test, y_test))"
   ]
  },
  {
   "cell_type": "code",
   "execution_count": 117,
   "metadata": {},
   "outputs": [
    {
     "name": "stdout",
     "output_type": "stream",
     "text": [
      "Time:  0.10277390480041504\n"
     ]
    }
   ],
   "source": [
    "time_start = time.time()\n",
    "y_pred = mlp.predict(X_test)\n",
    "print(\"Time: \", time.time() - time_start)"
   ]
  },
  {
   "cell_type": "code",
   "execution_count": 119,
   "metadata": {},
   "outputs": [
    {
     "name": "stderr",
     "output_type": "stream",
     "text": [
      "C:\\Users\\Polya\\Anaconda3\\lib\\site-packages\\sklearn\\utils\\validation.py:761: DataConversionWarning: A column-vector y was passed when a 1d array was expected. Please change the shape of y to (n_samples, ), for example using ravel().\n",
      "  y = column_or_1d(y, warn=True)\n"
     ]
    },
    {
     "name": "stdout",
     "output_type": "stream",
     "text": [
      "Train-Accuracy: 0.4498502994011976\n",
      "Test-Accuracy: 0.46038863976083705\n"
     ]
    }
   ],
   "source": [
    "# Байес\n",
    "from sklearn.naive_bayes import GaussianNB\n",
    "gNB = GaussianNB()\n",
    "gNB.fit(X_train, y_train)\n",
    "print(\"Train-Accuracy:\", gNB.score(X_train, y_train))\n",
    "print(\"Test-Accuracy:\", gNB.score(X_test, y_test))"
   ]
  },
  {
   "cell_type": "code",
   "execution_count": 120,
   "metadata": {},
   "outputs": [
    {
     "name": "stdout",
     "output_type": "stream",
     "text": [
      "Time:  1.0944085121154785\n"
     ]
    }
   ],
   "source": [
    "time_start = time.time()\n",
    "y_pred = gNB.predict(X_test)\n",
    "print(\"Time: \", time.time() - time_start)"
   ]
  },
  {
   "cell_type": "code",
   "execution_count": null,
   "metadata": {},
   "outputs": [],
   "source": []
  },
  {
   "cell_type": "code",
   "execution_count": 1,
   "metadata": {},
   "outputs": [
    {
     "name": "stderr",
     "output_type": "stream",
     "text": [
      "C:\\Users\\Polya\\Anaconda3\\lib\\site-packages\\smart_open\\ssh.py:34: UserWarning: paramiko missing, opening SSH/SCP/SFTP paths will be disabled.  `pip install paramiko` to suppress\n",
      "  warnings.warn('paramiko missing, opening SSH/SCP/SFTP paths will be disabled.  `pip install paramiko` to suppress')\n",
      "C:\\Users\\Polya\\Anaconda3\\lib\\site-packages\\gensim\\utils.py:1197: UserWarning: detected Windows; aliasing chunkize to chunkize_serial\n",
      "  warnings.warn(\"detected Windows; aliasing chunkize to chunkize_serial\")\n"
     ]
    }
   ],
   "source": [
    "import gensim \n",
    "from gensim.models import Word2Vec"
   ]
  },
  {
   "cell_type": "code",
   "execution_count": 2,
   "metadata": {},
   "outputs": [],
   "source": [
    "word_data = []\n",
    "import os\n",
    "\n",
    "path = 'True_program_without_com'\n",
    "for filename in os.listdir(path):\n",
    "    with open(path + '/' + filename, 'r', encoding='utf-8') as infile:\n",
    "        for line in infile:\n",
    "            s = line.split()\n",
    "            word_data += [s]\n",
    "            \n",
    "path = 'False_program_without_com'\n",
    "for filename in os.listdir(path):\n",
    "    with open(path + '/' + filename, 'r', encoding='utf-8') as infile:\n",
    "        for line in infile:\n",
    "            s = line.split()\n",
    "            word_data += [s]\n",
    "\n",
    "word_model = gensim.models.Word2Vec(word_data, min_count = 1, size = 5, window = 10)"
   ]
  },
  {
   "cell_type": "code",
   "execution_count": 9,
   "metadata": {},
   "outputs": [],
   "source": [
    "import numpy as np\n",
    "data_true = np.zeros((CNT_ROW_TRUE, CNT_COL*5))\n",
    "data_false = np.zeros((CNT_ROW_FALSE, CNT_COL*5))"
   ]
  },
  {
   "cell_type": "code",
   "execution_count": 10,
   "metadata": {},
   "outputs": [
    {
     "name": "stderr",
     "output_type": "stream",
     "text": [
      "C:\\Users\\Polya\\Anaconda3\\lib\\site-packages\\ipykernel_launcher.py:10: DeprecationWarning: Call to deprecated `__getitem__` (Method will be removed in 4.0.0, use self.wv.__getitem__() instead).\n",
      "  # Remove the CWD from sys.path while we load stuff.\n"
     ]
    }
   ],
   "source": [
    "\n",
    "j = 0\n",
    "\n",
    "path = 'True_program_without_com'\n",
    "for filename in os.listdir(path):\n",
    "    with open(path + '/' + filename, 'r', encoding='utf-8') as infile:\n",
    "        for line in infile:\n",
    "            s = line.split()\n",
    "            for i in range(len(s)):\n",
    "                data_true[j][i*5: i*5+5] = word_model[s[i]]\n",
    "    j += 1\n",
    "    "
   ]
  },
  {
   "cell_type": "code",
   "execution_count": 11,
   "metadata": {},
   "outputs": [
    {
     "name": "stderr",
     "output_type": "stream",
     "text": [
      "C:\\Users\\Polya\\Anaconda3\\lib\\site-packages\\ipykernel_launcher.py:9: DeprecationWarning: Call to deprecated `__getitem__` (Method will be removed in 4.0.0, use self.wv.__getitem__() instead).\n",
      "  if __name__ == '__main__':\n"
     ]
    }
   ],
   "source": [
    "j = 0\n",
    "\n",
    "path = 'False_program_without_com'\n",
    "for filename in os.listdir(path):\n",
    "    with open(path + '/' + filename, 'r', encoding='utf-8') as infile:\n",
    "        for line in infile:\n",
    "            s = line.split()\n",
    "            for i in range(len(s)):\n",
    "                data_false[j][i*5: i*5+5] = word_model[s[i]]\n",
    "    j += 1\n",
    "    "
   ]
  },
  {
   "cell_type": "code",
   "execution_count": 12,
   "metadata": {},
   "outputs": [],
   "source": [
    "target_true = np.ones((CNT_ROW_TRUE, 1))\n",
    "target_false = np.zeros((CNT_ROW_FALSE, 1))"
   ]
  },
  {
   "cell_type": "code",
   "execution_count": 13,
   "metadata": {},
   "outputs": [],
   "source": [
    "data = np.concatenate((data_true, data_false), axis=0)\n",
    "target = np.concatenate((target_true, target_false), axis=0)"
   ]
  },
  {
   "cell_type": "code",
   "execution_count": 16,
   "metadata": {},
   "outputs": [],
   "source": [
    "from sklearn.model_selection import train_test_split\n",
    "\n",
    "X_train, X_test, y_train, y_test = train_test_split(data, target, test_size = 0.2, random_state = 11)"
   ]
  },
  {
   "cell_type": "code",
   "execution_count": 180,
   "metadata": {},
   "outputs": [],
   "source": [
    "X_train = np.reshape(X_train, (X_train.shape[0], X_train.shape[1], 1))\n",
    "X_test = np.reshape(X_test, (X_test.shape[0], X_test.shape[1], 1))"
   ]
  },
  {
   "cell_type": "code",
   "execution_count": 181,
   "metadata": {},
   "outputs": [
    {
     "name": "stdout",
     "output_type": "stream",
     "text": [
      "Train on 2672 samples, validate on 669 samples\n",
      "Epoch 1/3\n",
      "2672/2672 [==============================] - 6153s 2s/step - loss: 0.6899 - acc: 0.5460 - val_loss: 0.6902 - val_acc: 0.5396\n",
      "Epoch 2/3\n",
      "2672/2672 [==============================] - 4081s 2s/step - loss: 0.6877 - acc: 0.5520 - val_loss: 0.6907 - val_acc: 0.5396\n",
      "Epoch 3/3\n",
      "2672/2672 [==============================] - 5189s 2s/step - loss: 0.6880 - acc: 0.5520 - val_loss: 0.6903 - val_acc: 0.5396\n",
      "Test-Accuracy: 0.5396113641593488\n",
      "Time:  15444.473833560944\n"
     ]
    }
   ],
   "source": [
    "#RNN\n",
    "\n",
    "from keras.layers import LSTM\n",
    "from keras.layers import Dense\n",
    "\n",
    "model = models.Sequential()\n",
    "# Input - Layer\n",
    "model.add(LSTM(32))\n",
    "#model.add(Dense(50, activation = \"relu\"))\n",
    "model.add(Dense(1, activation='sigmoid'))\n",
    "#model.summary()\n",
    "# compiling the model\n",
    "model.compile(\n",
    " optimizer = \"adam\",\n",
    " loss = \"binary_crossentropy\",\n",
    " metrics = [\"accuracy\"]\n",
    ")\n",
    "\n",
    "time_start = time.time()\n",
    "results = model.fit(\n",
    "    X_train, y_train,\n",
    "    batch_size=100,\n",
    "    epochs=3,\n",
    "    verbose=1,\n",
    "    validation_data = (X_test, y_test),\n",
    ")\n",
    "print(\"Test-Accuracy:\", np.mean(results.history[\"val_acc\"]))\n",
    "print(\"Time: \", time.time() - time_start)"
   ]
  },
  {
   "cell_type": "code",
   "execution_count": 15,
   "metadata": {},
   "outputs": [
    {
     "ename": "NameError",
     "evalue": "name 'X_train' is not defined",
     "output_type": "error",
     "traceback": [
      "\u001b[1;31m---------------------------------------------------------------------------\u001b[0m",
      "\u001b[1;31mNameError\u001b[0m                                 Traceback (most recent call last)",
      "\u001b[1;32m<ipython-input-15-7a37f023a36b>\u001b[0m in \u001b[0;36m<module>\u001b[1;34m\u001b[0m\n\u001b[1;32m----> 1\u001b[1;33m \u001b[0mX_train\u001b[0m \u001b[1;33m=\u001b[0m \u001b[0mnp\u001b[0m\u001b[1;33m.\u001b[0m\u001b[0mreshape\u001b[0m\u001b[1;33m(\u001b[0m\u001b[0mX_train\u001b[0m\u001b[1;33m,\u001b[0m \u001b[1;33m(\u001b[0m\u001b[0mX_train\u001b[0m\u001b[1;33m.\u001b[0m\u001b[0mshape\u001b[0m\u001b[1;33m[\u001b[0m\u001b[1;36m0\u001b[0m\u001b[1;33m]\u001b[0m\u001b[1;33m,\u001b[0m \u001b[0mX_train\u001b[0m\u001b[1;33m.\u001b[0m\u001b[0mshape\u001b[0m\u001b[1;33m[\u001b[0m\u001b[1;36m1\u001b[0m\u001b[1;33m]\u001b[0m\u001b[1;33m)\u001b[0m\u001b[1;33m)\u001b[0m\u001b[1;33m\u001b[0m\u001b[1;33m\u001b[0m\u001b[0m\n\u001b[0m\u001b[0;32m      2\u001b[0m \u001b[0mX_test\u001b[0m \u001b[1;33m=\u001b[0m \u001b[0mnp\u001b[0m\u001b[1;33m.\u001b[0m\u001b[0mreshape\u001b[0m\u001b[1;33m(\u001b[0m\u001b[0mX_test\u001b[0m\u001b[1;33m,\u001b[0m \u001b[1;33m(\u001b[0m\u001b[0mX_test\u001b[0m\u001b[1;33m.\u001b[0m\u001b[0mshape\u001b[0m\u001b[1;33m[\u001b[0m\u001b[1;36m0\u001b[0m\u001b[1;33m]\u001b[0m\u001b[1;33m,\u001b[0m \u001b[0mX_test\u001b[0m\u001b[1;33m.\u001b[0m\u001b[0mshape\u001b[0m\u001b[1;33m[\u001b[0m\u001b[1;36m1\u001b[0m\u001b[1;33m]\u001b[0m\u001b[1;33m)\u001b[0m\u001b[1;33m)\u001b[0m\u001b[1;33m\u001b[0m\u001b[1;33m\u001b[0m\u001b[0m\n",
      "\u001b[1;31mNameError\u001b[0m: name 'X_train' is not defined"
     ]
    }
   ],
   "source": [
    "X_train = np.reshape(X_train, (X_train.shape[0], X_train.shape[1]))\n",
    "X_test = np.reshape(X_test, (X_test.shape[0], X_test.shape[1]))"
   ]
  },
  {
   "cell_type": "code",
   "execution_count": 100,
   "metadata": {},
   "outputs": [
    {
     "name": "stdout",
     "output_type": "stream",
     "text": [
      "_________________________________________________________________\n",
      "Layer (type)                 Output Shape              Param #   \n",
      "=================================================================\n",
      "dense_50 (Dense)             (None, 50)                1027400   \n",
      "_________________________________________________________________\n",
      "dropout_23 (Dropout)         (None, 50)                0         \n",
      "_________________________________________________________________\n",
      "dense_51 (Dense)             (None, 50)                2550      \n",
      "_________________________________________________________________\n",
      "dropout_24 (Dropout)         (None, 50)                0         \n",
      "_________________________________________________________________\n",
      "dense_52 (Dense)             (None, 50)                2550      \n",
      "_________________________________________________________________\n",
      "dense_53 (Dense)             (None, 1)                 51        \n",
      "=================================================================\n",
      "Total params: 1,032,551\n",
      "Trainable params: 1,032,551\n",
      "Non-trainable params: 0\n",
      "_________________________________________________________________\n",
      "Train on 2672 samples, validate on 669 samples\n",
      "Epoch 1/50\n",
      "2672/2672 [==============================] - 11s 4ms/step - loss: 7.4860 - acc: 0.5060 - val_loss: 6.4829 - val_acc: 0.5845\n",
      "Epoch 2/50\n",
      "2672/2672 [==============================] - 3s 1ms/step - loss: 7.0076 - acc: 0.5487 - val_loss: 7.1940 - val_acc: 0.5471\n",
      "Epoch 3/50\n",
      "2672/2672 [==============================] - 3s 1ms/step - loss: 7.1074 - acc: 0.5505 - val_loss: 7.3283 - val_acc: 0.5396\n",
      "Epoch 4/50\n",
      "2672/2672 [==============================] - 3s 1ms/step - loss: 7.0863 - acc: 0.5528 - val_loss: 7.3268 - val_acc: 0.5396\n",
      "Epoch 5/50\n",
      "2672/2672 [==============================] - 3s 1ms/step - loss: 7.0933 - acc: 0.5528 - val_loss: 7.3252 - val_acc: 0.5396\n",
      "Epoch 6/50\n",
      "2672/2672 [==============================] - 3s 1ms/step - loss: 7.0976 - acc: 0.5520 - val_loss: 7.3234 - val_acc: 0.5396\n",
      "Epoch 7/50\n",
      "2672/2672 [==============================] - 3s 1ms/step - loss: 7.0765 - acc: 0.5520 - val_loss: 7.3200 - val_acc: 0.5396\n",
      "Epoch 8/50\n",
      "2672/2672 [==============================] - 3s 1ms/step - loss: 7.0911 - acc: 0.5509 - val_loss: 7.3173 - val_acc: 0.5396\n",
      "Epoch 9/50\n",
      "2672/2672 [==============================] - 3s 1ms/step - loss: 7.0995 - acc: 0.5501 - val_loss: 7.3215 - val_acc: 0.5396\n",
      "Epoch 10/50\n",
      "2672/2672 [==============================] - 3s 1ms/step - loss: 7.0953 - acc: 0.5513 - val_loss: 7.3237 - val_acc: 0.5396\n",
      "Epoch 11/50\n",
      "2672/2672 [==============================] - 3s 1ms/step - loss: 7.0777 - acc: 0.5520 - val_loss: 7.3214 - val_acc: 0.5396\n",
      "Epoch 12/50\n",
      "2672/2672 [==============================] - 3s 1ms/step - loss: 7.0900 - acc: 0.5513 - val_loss: 7.3193 - val_acc: 0.5396\n",
      "Epoch 13/50\n",
      "2672/2672 [==============================] - 3s 1ms/step - loss: 7.0631 - acc: 0.5520 - val_loss: 7.3179 - val_acc: 0.5396\n",
      "Epoch 14/50\n",
      "2672/2672 [==============================] - 3s 1ms/step - loss: 7.0737 - acc: 0.5516 - val_loss: 7.3151 - val_acc: 0.5396\n",
      "Epoch 15/50\n",
      "2672/2672 [==============================] - 3s 1ms/step - loss: 7.0769 - acc: 0.5509 - val_loss: 7.3098 - val_acc: 0.5396\n",
      "Epoch 16/50\n",
      "2672/2672 [==============================] - 3s 1ms/step - loss: 7.0570 - acc: 0.5513 - val_loss: 7.3062 - val_acc: 0.5351\n",
      "Epoch 17/50\n",
      "2672/2672 [==============================] - 3s 1ms/step - loss: 7.0473 - acc: 0.5513 - val_loss: 7.3128 - val_acc: 0.5396\n",
      "Epoch 18/50\n",
      "2672/2672 [==============================] - 3s 1ms/step - loss: 7.0576 - acc: 0.5483 - val_loss: 7.1386 - val_acc: 0.5441\n",
      "Epoch 19/50\n",
      "2672/2672 [==============================] - 3s 1ms/step - loss: 7.0891 - acc: 0.5415 - val_loss: 7.2642 - val_acc: 0.5426\n",
      "Epoch 20/50\n",
      "2672/2672 [==============================] - 3s 1ms/step - loss: 7.0745 - acc: 0.5520 - val_loss: 7.3072 - val_acc: 0.5411\n",
      "Epoch 21/50\n",
      "2672/2672 [==============================] - 3s 1ms/step - loss: 7.0762 - acc: 0.5487 - val_loss: 7.1543 - val_acc: 0.5501\n",
      "Epoch 22/50\n",
      "2672/2672 [==============================] - 3s 1ms/step - loss: 6.9667 - acc: 0.5550 - val_loss: 6.9024 - val_acc: 0.5635\n",
      "Epoch 23/50\n",
      "2672/2672 [==============================] - 3s 1ms/step - loss: 7.3695 - acc: 0.5314 - val_loss: 7.2982 - val_acc: 0.5411\n",
      "Epoch 24/50\n",
      "2672/2672 [==============================] - 3s 1ms/step - loss: 7.0771 - acc: 0.5535 - val_loss: 7.3135 - val_acc: 0.5411\n",
      "Epoch 25/50\n",
      "2672/2672 [==============================] - 3s 1ms/step - loss: 7.1963 - acc: 0.5475 - val_loss: 7.3397 - val_acc: 0.5396\n",
      "Epoch 26/50\n",
      "2672/2672 [==============================] - 3s 1ms/step - loss: 7.1375 - acc: 0.5513 - val_loss: 7.3397 - val_acc: 0.5396\n",
      "Epoch 27/50\n",
      "2672/2672 [==============================] - 3s 1ms/step - loss: 7.1317 - acc: 0.5516 - val_loss: 7.3397 - val_acc: 0.5396\n",
      "Epoch 28/50\n",
      "2672/2672 [==============================] - 3s 1ms/step - loss: 7.1393 - acc: 0.5516 - val_loss: 7.3397 - val_acc: 0.5396\n",
      "Epoch 29/50\n",
      "2672/2672 [==============================] - 3s 1ms/step - loss: 7.1314 - acc: 0.5516 - val_loss: 7.3397 - val_acc: 0.5396\n",
      "Epoch 30/50\n",
      "2672/2672 [==============================] - 3s 1ms/step - loss: 7.1319 - acc: 0.5516 - val_loss: 7.3397 - val_acc: 0.5396\n",
      "Epoch 31/50\n",
      "2672/2672 [==============================] - 3s 1ms/step - loss: 7.1273 - acc: 0.5516 - val_loss: 7.3397 - val_acc: 0.5396\n",
      "Epoch 32/50\n",
      "2672/2672 [==============================] - 3s 1ms/step - loss: 7.1324 - acc: 0.5516 - val_loss: 7.3397 - val_acc: 0.5396\n",
      "Epoch 33/50\n",
      "2672/2672 [==============================] - 3s 1ms/step - loss: 7.1356 - acc: 0.5516 - val_loss: 7.3397 - val_acc: 0.5396\n",
      "Epoch 34/50\n",
      "2672/2672 [==============================] - 3s 1ms/step - loss: 7.1323 - acc: 0.5513 - val_loss: 7.3397 - val_acc: 0.5396\n",
      "Epoch 35/50\n",
      "2672/2672 [==============================] - 3s 1ms/step - loss: 7.1336 - acc: 0.5516 - val_loss: 7.3397 - val_acc: 0.5396\n",
      "Epoch 36/50\n",
      "2672/2672 [==============================] - 3s 1ms/step - loss: 7.1324 - acc: 0.5516 - val_loss: 7.3397 - val_acc: 0.5396\n",
      "Epoch 37/50\n",
      "2672/2672 [==============================] - 3s 1ms/step - loss: 7.1378 - acc: 0.5516 - val_loss: 7.3397 - val_acc: 0.5396\n",
      "Epoch 38/50\n",
      "2672/2672 [==============================] - 3s 1ms/step - loss: 7.1346 - acc: 0.5516 - val_loss: 7.3397 - val_acc: 0.5396\n",
      "Epoch 39/50\n",
      "2672/2672 [==============================] - 3s 1ms/step - loss: 7.1319 - acc: 0.5516 - val_loss: 7.3397 - val_acc: 0.5396\n",
      "Epoch 40/50\n",
      "2672/2672 [==============================] - 3s 1ms/step - loss: 7.1284 - acc: 0.5513 - val_loss: 7.3397 - val_acc: 0.5396\n",
      "Epoch 41/50\n",
      "2672/2672 [==============================] - 3s 1ms/step - loss: 7.1304 - acc: 0.5513 - val_loss: 7.3397 - val_acc: 0.5396\n",
      "Epoch 42/50\n",
      "2672/2672 [==============================] - 3s 1ms/step - loss: 7.1264 - acc: 0.5516 - val_loss: 7.3397 - val_acc: 0.5396\n",
      "Epoch 43/50\n",
      "2672/2672 [==============================] - 3s 1ms/step - loss: 7.1264 - acc: 0.5513 - val_loss: 7.3397 - val_acc: 0.5396\n",
      "Epoch 44/50\n",
      "2672/2672 [==============================] - 3s 1ms/step - loss: 7.1294 - acc: 0.5513 - val_loss: 7.3397 - val_acc: 0.5396\n",
      "Epoch 45/50\n",
      "2672/2672 [==============================] - 3s 1ms/step - loss: 7.1254 - acc: 0.5513 - val_loss: 7.3397 - val_acc: 0.5396\n",
      "Epoch 46/50\n",
      "2672/2672 [==============================] - 3s 1ms/step - loss: 7.1316 - acc: 0.5513 - val_loss: 7.3397 - val_acc: 0.5396\n",
      "Epoch 47/50\n",
      "2672/2672 [==============================] - 3s 1ms/step - loss: 7.1249 - acc: 0.5513 - val_loss: 7.3397 - val_acc: 0.5396\n",
      "Epoch 48/50\n",
      "2672/2672 [==============================] - 3s 1ms/step - loss: 7.1188 - acc: 0.5513 - val_loss: 7.3397 - val_acc: 0.5396\n",
      "Epoch 49/50\n",
      "2672/2672 [==============================] - 3s 1ms/step - loss: 7.1188 - acc: 0.5509 - val_loss: 7.3398 - val_acc: 0.5396\n",
      "Epoch 50/50\n",
      "2672/2672 [==============================] - 3s 1ms/step - loss: 7.1193 - acc: 0.5509 - val_loss: 7.3398 - val_acc: 0.5396\n",
      "Test-Accuracy: 0.5414947734285362\n"
     ]
    }
   ],
   "source": [
    "model = models.Sequential()\n",
    "# Input - Layer\n",
    "model.add(layers.Dense(50, activation = \"relu\", input_shape=(X_train.shape[1], )))\n",
    "# Hidden - Layers\n",
    "model.add(layers.Dropout(0.3, noise_shape=None, seed=None))\n",
    "model.add(layers.Dense(50, activation = \"relu\"))\n",
    "model.add(layers.Dropout(0.2, noise_shape=None, seed=None))\n",
    "model.add(layers.Dense(50, activation = \"relu\"))\n",
    "# Output- Layer\n",
    "model.add(layers.Dense(1, activation = \"sigmoid\"))\n",
    "model.summary()\n",
    "# compiling the model\n",
    "model.compile(\n",
    " optimizer = \"adam\",\n",
    " loss = \"binary_crossentropy\",\n",
    " metrics = [\"accuracy\"]\n",
    ")\n",
    "results = model.fit(\n",
    " X_train, y_train,\n",
    " epochs= 50,\n",
    " batch_size = 30,\n",
    " validation_data = (X_test, y_test)\n",
    ")\n",
    "print(\"Test-Accuracy:\", np.mean(results.history[\"val_acc\"]))"
   ]
  },
  {
   "cell_type": "code",
   "execution_count": null,
   "metadata": {},
   "outputs": [
    {
     "name": "stderr",
     "output_type": "stream",
     "text": [
      "C:\\Users\\Polya\\Anaconda3\\lib\\site-packages\\ipykernel_launcher.py:3: DataConversionWarning: A column-vector y was passed when a 1d array was expected. Please change the shape of y to (n_samples, ), for example using ravel().\n",
      "  This is separate from the ipykernel package so we can avoid doing imports until\n"
     ]
    }
   ],
   "source": [
    "from sklearn.neighbors import KNeighborsClassifier\n",
    "knn = KNeighborsClassifier(n_neighbors=3)\n",
    "knn.fit(X_train, y_train)\n",
    "print(\"Train-Accuracy:\", knn.score(X_train, y_train))\n",
    "print(\"Test-Accuracy:\", knn.score(X_test, y_test))"
   ]
  },
  {
   "cell_type": "code",
   "execution_count": 135,
   "metadata": {},
   "outputs": [
    {
     "name": "stdout",
     "output_type": "stream",
     "text": [
      "Time:  111.93881106376648\n"
     ]
    }
   ],
   "source": [
    "time_start = time.time()\n",
    "y_pred = knn.predict(X_test)\n",
    "print(\"Time: \", time.time() - time_start)"
   ]
  },
  {
   "cell_type": "code",
   "execution_count": 148,
   "metadata": {},
   "outputs": [
    {
     "name": "stderr",
     "output_type": "stream",
     "text": [
      "C:\\Users\\Polya\\Anaconda3\\lib\\site-packages\\sklearn\\linear_model\\logistic.py:433: FutureWarning: Default solver will be changed to 'lbfgs' in 0.22. Specify a solver to silence this warning.\n",
      "  FutureWarning)\n",
      "C:\\Users\\Polya\\Anaconda3\\lib\\site-packages\\sklearn\\utils\\validation.py:761: DataConversionWarning: A column-vector y was passed when a 1d array was expected. Please change the shape of y to (n_samples, ), for example using ravel().\n",
      "  y = column_or_1d(y, warn=True)\n",
      "C:\\Users\\Polya\\Anaconda3\\lib\\site-packages\\sklearn\\svm\\base.py:931: ConvergenceWarning: Liblinear failed to converge, increase the number of iterations.\n",
      "  \"the number of iterations.\", ConvergenceWarning)\n"
     ]
    },
    {
     "name": "stdout",
     "output_type": "stream",
     "text": [
      "Train-Accuracy: 0.6302395209580839\n",
      "Test-Accuracy: 0.6128550074738416\n"
     ]
    }
   ],
   "source": [
    "# Логистическая регрессия\n",
    "from sklearn.linear_model import LogisticRegression\n",
    "LR = LogisticRegression()\n",
    "LR.fit(X_train, y_train)\n",
    "print(\"Train-Accuracy:\", LR.score(X_train, y_train))\n",
    "print(\"Test-Accuracy:\", LR.score(X_test, y_test))"
   ]
  },
  {
   "cell_type": "code",
   "execution_count": 147,
   "metadata": {},
   "outputs": [
    {
     "name": "stdout",
     "output_type": "stream",
     "text": [
      "Time:  0.07570171356201172\n"
     ]
    }
   ],
   "source": [
    "time_start = time.time()\n",
    "y_pred = LR.predict(X_test)\n",
    "print(\"Time: \", time.time() - time_start)"
   ]
  },
  {
   "cell_type": "code",
   "execution_count": 152,
   "metadata": {},
   "outputs": [
    {
     "name": "stderr",
     "output_type": "stream",
     "text": [
      "C:\\Users\\Polya\\Anaconda3\\lib\\site-packages\\sklearn\\utils\\validation.py:761: DataConversionWarning: A column-vector y was passed when a 1d array was expected. Please change the shape of y to (n_samples, ), for example using ravel().\n",
      "  y = column_or_1d(y, warn=True)\n",
      "C:\\Users\\Polya\\Anaconda3\\lib\\site-packages\\sklearn\\svm\\base.py:931: ConvergenceWarning: Liblinear failed to converge, increase the number of iterations.\n",
      "  \"the number of iterations.\", ConvergenceWarning)\n"
     ]
    },
    {
     "name": "stdout",
     "output_type": "stream",
     "text": [
      "Train-Accuracy: 0.5684880239520959\n",
      "Test-Accuracy: 0.5575485799701047\n"
     ]
    }
   ],
   "source": [
    "from sklearn.svm import LinearSVC\n",
    "LSVC = LinearSVC()\n",
    "LSVC.fit(X_train, y_train)\n",
    "print(\"Train-Accuracy:\", LSVC.score(X_train, y_train))\n",
    "print(\"Test-Accuracy:\", LSVC.score(X_test, y_test))"
   ]
  },
  {
   "cell_type": "code",
   "execution_count": 153,
   "metadata": {},
   "outputs": [
    {
     "name": "stdout",
     "output_type": "stream",
     "text": [
      "Time:  0.0661768913269043\n"
     ]
    }
   ],
   "source": [
    "time_start = time.time()\n",
    "y_pred = LSVC.predict(X_test)\n",
    "print(\"Time: \", time.time() - time_start)"
   ]
  },
  {
   "cell_type": "code",
   "execution_count": 17,
   "metadata": {},
   "outputs": [
    {
     "name": "stdout",
     "output_type": "stream",
     "text": [
      "Train-Accuracy: 0.9966317365269461\n",
      "Test-Accuracy: 0.6846038863976084\n"
     ]
    }
   ],
   "source": [
    "from sklearn.tree import DecisionTreeClassifier\n",
    "tree = DecisionTreeClassifier(random_state=0)\n",
    "tree.fit(X_train, y_train)\n",
    "print(\"Train-Accuracy:\", tree.score(X_train, y_train))\n",
    "print(\"Test-Accuracy:\", tree.score(X_test, y_test))"
   ]
  },
  {
   "cell_type": "code",
   "execution_count": 159,
   "metadata": {},
   "outputs": [
    {
     "name": "stdout",
     "output_type": "stream",
     "text": [
      "Time:  0.14388155937194824\n"
     ]
    }
   ],
   "source": [
    "time_start = time.time()\n",
    "y_pred = tree.predict(X_test)\n",
    "print(\"Time: \", time.time() - time_start)"
   ]
  },
  {
   "cell_type": "code",
   "execution_count": 166,
   "metadata": {},
   "outputs": [
    {
     "name": "stderr",
     "output_type": "stream",
     "text": [
      "C:\\Users\\Polya\\Anaconda3\\lib\\site-packages\\ipykernel_launcher.py:3: DataConversionWarning: A column-vector y was passed when a 1d array was expected. Please change the shape of y to (n_samples,), for example using ravel().\n",
      "  This is separate from the ipykernel package so we can avoid doing imports until\n"
     ]
    },
    {
     "name": "stdout",
     "output_type": "stream",
     "text": [
      "Train-Accuracy: 0.9962574850299402\n",
      "Test-Accuracy: 0.7623318385650224\n"
     ]
    }
   ],
   "source": [
    "from sklearn.ensemble import RandomForestClassifier\n",
    "forest = RandomForestClassifier(n_estimators=500, random_state=0)\n",
    "forest.fit(X_train, y_train)\n",
    "print(\"Train-Accuracy:\", forest.score(X_train, y_train))\n",
    "print(\"Test-Accuracy:\", forest.score(X_test, y_test))"
   ]
  },
  {
   "cell_type": "code",
   "execution_count": 167,
   "metadata": {},
   "outputs": [
    {
     "name": "stdout",
     "output_type": "stream",
     "text": [
      "Time:  0.3283720016479492\n"
     ]
    }
   ],
   "source": [
    "time_start = time.time()\n",
    "y_pred = forest.predict(X_test)\n",
    "print(\"Time: \", time.time() - time_start)"
   ]
  },
  {
   "cell_type": "code",
   "execution_count": 172,
   "metadata": {},
   "outputs": [
    {
     "name": "stderr",
     "output_type": "stream",
     "text": [
      "C:\\Users\\Polya\\Anaconda3\\lib\\site-packages\\sklearn\\utils\\validation.py:761: DataConversionWarning: A column-vector y was passed when a 1d array was expected. Please change the shape of y to (n_samples, ), for example using ravel().\n",
      "  y = column_or_1d(y, warn=True)\n"
     ]
    },
    {
     "name": "stdout",
     "output_type": "stream",
     "text": [
      "Train-Accuracy: 0.9820359281437125\n",
      "Test-Accuracy: 0.7563527653213752\n"
     ]
    }
   ],
   "source": [
    "# Градиентный бустинг\n",
    "from sklearn.ensemble import GradientBoostingClassifier\n",
    "gbrt = GradientBoostingClassifier(random_state=0, n_estimators=100, learning_rate = 1)\n",
    "gbrt.fit(X_train, y_train)\n",
    "print(\"Train-Accuracy:\", gbrt.score(X_train, y_train))\n",
    "print(\"Test-Accuracy:\", gbrt.score(X_test, y_test))"
   ]
  },
  {
   "cell_type": "code",
   "execution_count": 173,
   "metadata": {},
   "outputs": [
    {
     "name": "stdout",
     "output_type": "stream",
     "text": [
      "Time:  0.17696928977966309\n"
     ]
    }
   ],
   "source": [
    "time_start = time.time()\n",
    "y_pred = gbrt.predict(X_test)\n",
    "print(\"Time: \", time.time() - time_start)"
   ]
  },
  {
   "cell_type": "code",
   "execution_count": 176,
   "metadata": {},
   "outputs": [
    {
     "name": "stderr",
     "output_type": "stream",
     "text": [
      "C:\\Users\\Polya\\Anaconda3\\lib\\site-packages\\sklearn\\neural_network\\multilayer_perceptron.py:916: DataConversionWarning: A column-vector y was passed when a 1d array was expected. Please change the shape of y to (n_samples, ), for example using ravel().\n",
      "  y = column_or_1d(y, warn=True)\n"
     ]
    },
    {
     "name": "stdout",
     "output_type": "stream",
     "text": [
      "Train-Accuracy: 0.5033682634730539\n",
      "Test-Accuracy: 0.49327354260089684\n"
     ]
    }
   ],
   "source": [
    "from sklearn.neural_network import MLPClassifier\n",
    "mlp = MLPClassifier(solver='lbfgs', random_state=0, hidden_layer_sizes = [10, 10])\n",
    "mlp.fit(X_train, y_train)\n",
    "print(\"Train-Accuracy:\", mlp.score(X_train, y_train))\n",
    "print(\"Test-Accuracy:\", mlp.score(X_test, y_test))"
   ]
  },
  {
   "cell_type": "code",
   "execution_count": 177,
   "metadata": {},
   "outputs": [
    {
     "name": "stdout",
     "output_type": "stream",
     "text": [
      "Time:  0.10377621650695801\n"
     ]
    }
   ],
   "source": [
    "time_start = time.time()\n",
    "y_pred = mlp.predict(X_test)\n",
    "print(\"Time: \", time.time() - time_start)"
   ]
  },
  {
   "cell_type": "code",
   "execution_count": 178,
   "metadata": {},
   "outputs": [
    {
     "name": "stderr",
     "output_type": "stream",
     "text": [
      "C:\\Users\\Polya\\Anaconda3\\lib\\site-packages\\sklearn\\utils\\validation.py:761: DataConversionWarning: A column-vector y was passed when a 1d array was expected. Please change the shape of y to (n_samples, ), for example using ravel().\n",
      "  y = column_or_1d(y, warn=True)\n"
     ]
    },
    {
     "name": "stdout",
     "output_type": "stream",
     "text": [
      "Train-Accuracy: 0.4498502994011976\n",
      "Test-Accuracy: 0.46038863976083705\n"
     ]
    }
   ],
   "source": [
    "from sklearn.naive_bayes import GaussianNB\n",
    "gNB = GaussianNB()\n",
    "gNB.fit(X_train, y_train)\n",
    "print(\"Train-Accuracy:\", gNB.score(X_train, y_train))\n",
    "print(\"Test-Accuracy:\", gNB.score(X_test, y_test))"
   ]
  },
  {
   "cell_type": "code",
   "execution_count": 179,
   "metadata": {},
   "outputs": [
    {
     "name": "stdout",
     "output_type": "stream",
     "text": [
      "Time:  2.4997010231018066\n"
     ]
    }
   ],
   "source": [
    "time_start = time.time()\n",
    "y_pred = gNB.predict(X_test)\n",
    "print(\"Time: \", time.time() - time_start)"
   ]
  },
  {
   "cell_type": "code",
   "execution_count": null,
   "metadata": {},
   "outputs": [],
   "source": []
  }
 ],
 "metadata": {
  "kernelspec": {
   "display_name": "Python 3",
   "language": "python",
   "name": "python3"
  },
  "language_info": {
   "codemirror_mode": {
    "name": "ipython",
    "version": 3
   },
   "file_extension": ".py",
   "mimetype": "text/x-python",
   "name": "python",
   "nbconvert_exporter": "python",
   "pygments_lexer": "ipython3",
   "version": "3.7.3"
  }
 },
 "nbformat": 4,
 "nbformat_minor": 2
}
